{
 "cells": [
  {
   "cell_type": "code",
   "execution_count": 1,
   "id": "d1939402-5b94-4f6e-895e-b12d408b853f",
   "metadata": {},
   "outputs": [],
   "source": [
    "%load_ext autoreload\n",
    "%autoreload 2"
   ]
  },
  {
   "cell_type": "code",
   "execution_count": 2,
   "id": "5d4a6680-b592-484b-8bfc-76cd62fb8232",
   "metadata": {},
   "outputs": [],
   "source": [
    "import numpy as np\n",
    "import pandas as pd\n",
    "import random\n",
    "import seaborn as sns\n",
    "import matplotlib.pyplot as plt\n",
    "import gc\n",
    "import lightgbm as lgb\n",
    "\n",
    "from scipy.optimize import linprog, minimize, LinearConstraint\n",
    "from xgboost import XGBRegressor\n",
    "from sklearn.model_selection import KFold, train_test_split\n",
    "from sklearn.preprocessing import OrdinalEncoder\n",
    "from sklearn.metrics import mean_squared_error\n",
    "from itertools import combinations\n",
    "from tqdm import tqdm\n",
    "\n",
    "import warnings\n",
    "warnings.filterwarnings(\"ignore\")"
   ]
  },
  {
   "cell_type": "markdown",
   "id": "70c81c7e-ee3f-4b81-9454-3d67dfab717b",
   "metadata": {},
   "source": [
    "Debemos tener un train set con nuestro esquema de kfolds guardado para asegurarnos que entremos los modelos en el mismo set (las features pueden ser diferentes)"
   ]
  },
  {
   "cell_type": "code",
   "execution_count": 3,
   "id": "fe7e978d-c0a4-4c36-a646-ca74f6937dbd",
   "metadata": {},
   "outputs": [
    {
     "name": "stdout",
     "output_type": "stream",
     "text": [
      "Train: (300000, 27)\n",
      "Test: (200000, 25)\n"
     ]
    }
   ],
   "source": [
    "df = pd.read_csv(\"input/train_5folds.csv\")\n",
    "og_feat = df.columns[1:-1]\n",
    "test = pd.read_csv(\"input/test.csv\")\n",
    "sample_submission =pd.read_csv(\"input/sample_submission.csv\")\n",
    "print(\"Train:\", df.shape)\n",
    "print(\"Test:\", test.shape)"
   ]
  },
  {
   "cell_type": "markdown",
   "id": "d7bb3f76-5eb6-43f5-849a-13908f11b14f",
   "metadata": {},
   "source": [
    "# Training"
   ]
  },
  {
   "cell_type": "code",
   "execution_count": 4,
   "id": "123137ae-cc35-4034-9b4d-d77c6eaf5cb8",
   "metadata": {},
   "outputs": [],
   "source": [
    "lgb_params = {'verbosity': -1,\n",
    "             'objective': 'regression',\n",
    "             'n_estimators': 5000,\n",
    "             'max_depth': 2,\n",
    "             'metric': 'rmse',\n",
    "             'device': 'gpu',\n",
    "             'gpu_platform_id': 0,\n",
    "             'gpu_device_id': 0,\n",
    "             'seed': 666,\n",
    "             'learning_rate': 0.1328761374683347,\n",
    "             'lambda_l1': 2.512761464031031e-08,\n",
    "             'lambda_l2': 4.188534230542656e-08,\n",
    "             'num_leaves': 29,\n",
    "             'feature_fraction': 0.47515557601244934,\n",
    "             'bagging_fraction': 0.6510858500917701,\n",
    "             'bagging_freq': 0,\n",
    "             'min_child_samples': 48}\n",
    "\n",
    "xgb_params = {'objective': 'reg:squarederror',\n",
    "             'n_estimators': 20000,\n",
    "             'booster': 'gbtree',\n",
    "             'max_depth': 2,\n",
    "             'learning_rate': 0.09344238585504369,\n",
    "             'colsample_bytree': 0.182752418577295,\n",
    "             'subsample': 0.5105633202654916,\n",
    "             'alpha': 0.31497378201113674,\n",
    "             'lambda': 0.08413322850225624,\n",
    "             'min_child_weight': 148.2986978620488,\n",
    "             'tree_method': 'gpu_hist',\n",
    "             'gpu_id': 0,\n",
    "             'predictor': 'gpu_predictor'}"
   ]
  },
  {
   "cell_type": "code",
   "execution_count": 5,
   "id": "6410e94b-b009-42fc-b9a0-fd2375de3e25",
   "metadata": {},
   "outputs": [],
   "source": [
    "useful_features = [c for c in df.columns if c not in (\"id\", \"target\", \"kfold\")]\n",
    "object_cols = [col for col in useful_features if col.startswith('cat')]\n",
    "cont_cols = [col for col in df.columns if (\"cont\" in col)]\n",
    "test = test[useful_features]"
   ]
  },
  {
   "cell_type": "code",
   "execution_count": 6,
   "id": "5156b9c8-7b90-482e-9246-c7165703e4af",
   "metadata": {},
   "outputs": [
    {
     "name": "stdout",
     "output_type": "stream",
     "text": [
      "Training until validation scores don't improve for 1000 rounds\n",
      "Early stopping, best iteration is:\n",
      "[3421]\tvalid_0's rmse: 0.717427\n",
      "Best alpha: 0.542000; Corresponding rmse score on train: 0.717017\n",
      "0 0.7170168770885542\n",
      "Training until validation scores don't improve for 1000 rounds\n",
      "Early stopping, best iteration is:\n",
      "[2459]\tvalid_0's rmse: 0.717908\n",
      "Best alpha: 0.387000; Corresponding rmse score on train: 0.717157\n",
      "1 0.7171567825065013\n",
      "Training until validation scores don't improve for 1000 rounds\n",
      "Early stopping, best iteration is:\n",
      "[2793]\tvalid_0's rmse: 0.719827\n",
      "Best alpha: 0.374000; Corresponding rmse score on train: 0.719086\n",
      "2 0.7190857128798025\n",
      "Training until validation scores don't improve for 1000 rounds\n",
      "Early stopping, best iteration is:\n",
      "[3078]\tvalid_0's rmse: 0.719372\n",
      "Best alpha: 0.515000; Corresponding rmse score on train: 0.718858\n",
      "3 0.71885821955106\n",
      "Training until validation scores don't improve for 1000 rounds\n",
      "Early stopping, best iteration is:\n",
      "[3612]\tvalid_0's rmse: 0.717841\n",
      "Best alpha: 0.512000; Corresponding rmse score on train: 0.717343\n",
      "4 0.7173431915296598\n",
      "0.7178921567111155 0.0008906296814575823\n",
      "CPU times: user 1h 5min 56s, sys: 27.8 s, total: 1h 6min 24s\n",
      "Wall time: 7min 41s\n"
     ]
    }
   ],
   "source": [
    "%%time\n",
    "\n",
    "final_predictions = []\n",
    "final_predictions_level2 = []\n",
    "final_predictions_lgb = []\n",
    "final_predictions_xgb = []\n",
    "rmses = []\n",
    "best_alphas = []\n",
    "alphas_to_try = np.linspace(0, 1, 1001)\n",
    "level2_preds = []\n",
    "\n",
    "for fold in range(5):\n",
    "    xtrain =  df[df.kfold != fold].reset_index(drop=True)\n",
    "    xvalid = df[df.kfold == fold].reset_index(drop=True)\n",
    "    xtest = test.copy()\n",
    "\n",
    "    ytrain = xtrain.target\n",
    "    yvalid = xvalid.target\n",
    "    \n",
    "    xtrain = xtrain[useful_features]\n",
    "    xvalid = xvalid[useful_features]\n",
    "    \n",
    "    ordinal_encoder = OrdinalEncoder()\n",
    "    xtrain[object_cols] = ordinal_encoder.fit_transform(xtrain[object_cols])\n",
    "    xvalid[object_cols] = ordinal_encoder.transform(xvalid[object_cols])\n",
    "    xtest[object_cols] = ordinal_encoder.transform(xtest[object_cols])\n",
    "    \n",
    "    \n",
    "    lgb_train = lgb.Dataset(xtrain.values,\n",
    "                label=ytrain.values,\n",
    "                feature_name=useful_features,\n",
    "                free_raw_data = False)\n",
    "    \n",
    "    lgb_valid = lgb.Dataset(xvalid.values,\n",
    "                           label=yvalid.values,\n",
    "                           feature_name=useful_features,\n",
    "                           free_raw_data = False)   \n",
    "\n",
    "    \n",
    "    model_lgb = lgb.train(lgb_params, lgb_train, 20000, \n",
    "                          valid_sets = [lgb_valid], \n",
    "                          verbose_eval = 5000, \n",
    "                          early_stopping_rounds = 1000)\n",
    "    preds_lgb = model_lgb.predict(xvalid)\n",
    "    \n",
    "    model_xgb = XGBRegressor(**xgb_params, random_state = 0)\n",
    "    model_xgb.fit(xtrain, ytrain, verbose=False,\n",
    "                  eval_set=[(xvalid, yvalid)],\n",
    "                  eval_metric=\"rmse\",\n",
    "                  early_stopping_rounds=1000\n",
    "                  )\n",
    "    preds_xgb= model_xgb.predict(xvalid, ntree_limit = model_xgb.get_booster().best_ntree_limit)\n",
    "\n",
    "    \n",
    "    rmse_train_simple_mix = 1\n",
    "    for alpha in alphas_to_try:\n",
    "        mix = alpha*preds_lgb + (1-alpha)*preds_xgb\n",
    "        rmse_mix = mean_squared_error(yvalid, mix, squared = False)\n",
    "        if rmse_mix < rmse_train_simple_mix:\n",
    "            best_alpha = alpha\n",
    "            rmse_train_simple_mix = rmse_mix\n",
    "\n",
    "    print('Best alpha: %f; Corresponding rmse score on train: %f' % (best_alpha, rmse_train_simple_mix))\n",
    "    best_alphas.append(best_alpha)\n",
    "    \n",
    "    \n",
    "    test_preds = best_alpha*model_lgb.predict(xtest) + (1-best_alpha)*model_xgb.predict(xtest, ntree_limit = model_xgb.get_booster().best_ntree_limit)\n",
    "    final_predictions.append(test_preds)\n",
    "    fold_rmse = rmse_train_simple_mix\n",
    "    rmses.append(fold_rmse)\n",
    "    print(fold, fold_rmse)\n",
    "    \n",
    "    level2_pred = np.column_stack([preds_lgb, preds_xgb, yvalid, fold*np.ones_like(yvalid)])\n",
    "    level2_preds.append(level2_pred)\n",
    "    \n",
    "    final_prediction_level2     = np.column_stack([model_lgb.predict(xtest) ,\n",
    "                                                model_xgb.predict(xtest, ntree_limit = model_xgb.get_booster().best_ntree_limit), \n",
    "                                                fold*np.ones_like(xtest)])\n",
    "    final_predictions_level2.append(final_prediction_level2)\n",
    "    final_predictions_lgb.append(model_lgb.predict(xtest))\n",
    "    final_predictions_xgb.append(model_xgb.predict(xtest, ntree_limit = model_xgb.get_booster().best_ntree_limit))\n",
    "    \n",
    "    \n",
    "print(np.mean(rmses), np.std(rmses))"
   ]
  },
  {
   "cell_type": "code",
   "execution_count": 7,
   "id": "8284718f-8640-489e-a7c8-91c1f230d1a2",
   "metadata": {},
   "outputs": [
    {
     "data": {
      "text/plain": [
       "[0.542, 0.387, 0.374, 0.515, 0.512]"
      ]
     },
     "execution_count": 7,
     "metadata": {},
     "output_type": "execute_result"
    }
   ],
   "source": [
    "best_alphas"
   ]
  },
  {
   "cell_type": "markdown",
   "id": "00dcbdc6-bf98-40db-84c5-ff7d80af2440",
   "metadata": {},
   "source": [
    "Esto da LB: 0.71895, si lo entrenan con CPU  y mejoran los hiperparámetros dará aún mejor"
   ]
  },
  {
   "cell_type": "code",
   "execution_count": 8,
   "id": "6f0e62f8-9cc6-4dca-bfbf-c8eb9c9744ba",
   "metadata": {},
   "outputs": [],
   "source": [
    "# preds = np.mean(np.column_stack(final_predictions), axis=1)\n",
    "# sample_submission.target = preds\n",
    "# sample_submission.to_csv(\"output/submission_basic_blending.csv\", index=False)"
   ]
  },
  {
   "cell_type": "markdown",
   "id": "87df3c2d-b635-4410-9eb7-7b2e1130221c",
   "metadata": {},
   "source": [
    "## Recomendación: Guardar predicciones de nivel 2"
   ]
  },
  {
   "cell_type": "code",
   "execution_count": 9,
   "id": "f25587ca-0f22-48d6-b0ba-7a73b0183358",
   "metadata": {},
   "outputs": [
    {
     "data": {
      "text/html": [
       "<div>\n",
       "<style scoped>\n",
       "    .dataframe tbody tr th:only-of-type {\n",
       "        vertical-align: middle;\n",
       "    }\n",
       "\n",
       "    .dataframe tbody tr th {\n",
       "        vertical-align: top;\n",
       "    }\n",
       "\n",
       "    .dataframe thead th {\n",
       "        text-align: right;\n",
       "    }\n",
       "</style>\n",
       "<table border=\"1\" class=\"dataframe\">\n",
       "  <thead>\n",
       "    <tr style=\"text-align: right;\">\n",
       "      <th></th>\n",
       "      <th>lgb</th>\n",
       "      <th>xgb</th>\n",
       "      <th>target</th>\n",
       "      <th>kfold</th>\n",
       "    </tr>\n",
       "  </thead>\n",
       "  <tbody>\n",
       "    <tr>\n",
       "      <th>0</th>\n",
       "      <td>8.385351</td>\n",
       "      <td>8.530322</td>\n",
       "      <td>8.113634</td>\n",
       "      <td>0.0</td>\n",
       "    </tr>\n",
       "    <tr>\n",
       "      <th>1</th>\n",
       "      <td>8.378153</td>\n",
       "      <td>8.284599</td>\n",
       "      <td>7.811465</td>\n",
       "      <td>0.0</td>\n",
       "    </tr>\n",
       "    <tr>\n",
       "      <th>2</th>\n",
       "      <td>8.130675</td>\n",
       "      <td>8.187273</td>\n",
       "      <td>9.284912</td>\n",
       "      <td>0.0</td>\n",
       "    </tr>\n",
       "    <tr>\n",
       "      <th>3</th>\n",
       "      <td>8.486196</td>\n",
       "      <td>8.396116</td>\n",
       "      <td>8.112487</td>\n",
       "      <td>0.0</td>\n",
       "    </tr>\n",
       "    <tr>\n",
       "      <th>4</th>\n",
       "      <td>8.289299</td>\n",
       "      <td>8.330362</td>\n",
       "      <td>8.322760</td>\n",
       "      <td>0.0</td>\n",
       "    </tr>\n",
       "  </tbody>\n",
       "</table>\n",
       "</div>"
      ],
      "text/plain": [
       "        lgb       xgb    target  kfold\n",
       "0  8.385351  8.530322  8.113634    0.0\n",
       "1  8.378153  8.284599  7.811465    0.0\n",
       "2  8.130675  8.187273  9.284912    0.0\n",
       "3  8.486196  8.396116  8.112487    0.0\n",
       "4  8.289299  8.330362  8.322760    0.0"
      ]
     },
     "execution_count": 9,
     "metadata": {},
     "output_type": "execute_result"
    }
   ],
   "source": [
    "df_level2 = pd.DataFrame(np.row_stack(level2_preds), columns = [\"lgb\", \"xgb\", \"target\", \"kfold\"])\n",
    "df_level2.head()"
   ]
  },
  {
   "cell_type": "code",
   "execution_count": 10,
   "id": "11cbb0b2-b9ef-4f6e-8683-f57da5f9ee75",
   "metadata": {},
   "outputs": [
    {
     "data": {
      "text/html": [
       "<style  type=\"text/css\" >\n",
       "#T_ca5bb_row0_col0,#T_ca5bb_row1_col1,#T_ca5bb_row2_col2{\n",
       "            background-color:  #b40426;\n",
       "            color:  #f1f1f1;\n",
       "        }#T_ca5bb_row0_col1,#T_ca5bb_row1_col0{\n",
       "            background-color:  #c53334;\n",
       "            color:  #f1f1f1;\n",
       "        }#T_ca5bb_row0_col2,#T_ca5bb_row1_col2,#T_ca5bb_row2_col0,#T_ca5bb_row2_col1{\n",
       "            background-color:  #3b4cc0;\n",
       "            color:  #f1f1f1;\n",
       "        }</style><table id=\"T_ca5bb_\" ><thead>    <tr>        <th class=\"blank level0\" ></th>        <th class=\"col_heading level0 col0\" >lgb</th>        <th class=\"col_heading level0 col1\" >xgb</th>        <th class=\"col_heading level0 col2\" >target</th>    </tr></thead><tbody>\n",
       "                <tr>\n",
       "                        <th id=\"T_ca5bb_level0_row0\" class=\"row_heading level0 row0\" >lgb</th>\n",
       "                        <td id=\"T_ca5bb_row0_col0\" class=\"data row0 col0\" >1.00</td>\n",
       "                        <td id=\"T_ca5bb_row0_col1\" class=\"data row0 col1\" >0.97</td>\n",
       "                        <td id=\"T_ca5bb_row0_col2\" class=\"data row0 col2\" >0.27</td>\n",
       "            </tr>\n",
       "            <tr>\n",
       "                        <th id=\"T_ca5bb_level0_row1\" class=\"row_heading level0 row1\" >xgb</th>\n",
       "                        <td id=\"T_ca5bb_row1_col0\" class=\"data row1 col0\" >0.97</td>\n",
       "                        <td id=\"T_ca5bb_row1_col1\" class=\"data row1 col1\" >1.00</td>\n",
       "                        <td id=\"T_ca5bb_row1_col2\" class=\"data row1 col2\" >0.27</td>\n",
       "            </tr>\n",
       "            <tr>\n",
       "                        <th id=\"T_ca5bb_level0_row2\" class=\"row_heading level0 row2\" >target</th>\n",
       "                        <td id=\"T_ca5bb_row2_col0\" class=\"data row2 col0\" >0.27</td>\n",
       "                        <td id=\"T_ca5bb_row2_col1\" class=\"data row2 col1\" >0.27</td>\n",
       "                        <td id=\"T_ca5bb_row2_col2\" class=\"data row2 col2\" >1.00</td>\n",
       "            </tr>\n",
       "    </tbody></table>"
      ],
      "text/plain": [
       "<pandas.io.formats.style.Styler at 0x7f2df4aed310>"
      ]
     },
     "execution_count": 10,
     "metadata": {},
     "output_type": "execute_result"
    }
   ],
   "source": [
    "corr = df_level2.drop(columns = \"kfold\").corr()\n",
    "corr.style.background_gradient(cmap='coolwarm').set_precision(2)"
   ]
  },
  {
   "cell_type": "code",
   "execution_count": 30,
   "id": "8e7a72ca-23a2-48b0-bb65-404fe1c616c3",
   "metadata": {},
   "outputs": [
    {
     "data": {
      "image/png": "[encoded data removed]",
      "text/plain": [
       "<Figure size 432x288 with 1 Axes>"
      ]
     },
     "metadata": {
      "needs_background": "light"
     },
     "output_type": "display_data"
    }
   ],
   "source": [
    "df_level2.plot.scatter(x=\"lgb\", y=\"xgb\");"
   ]
  },
  {
   "cell_type": "markdown",
   "id": "51717b47-7c6a-4e3f-a72e-fc636d0c4ffc",
   "metadata": {},
   "source": [
    "### Blending: Mejores alphas por fold"
   ]
  },
  {
   "cell_type": "code",
   "execution_count": 11,
   "id": "23a92a9f-aee5-4f37-a499-518951152352",
   "metadata": {},
   "outputs": [
    {
     "name": "stdout",
     "output_type": "stream",
     "text": [
      "Best alpha: 0.542000; Corresponding rmse score on train: 0.717017\n",
      "Best alpha: 0.386000; Corresponding rmse score on train: 0.717157\n",
      "Best alpha: 0.375000; Corresponding rmse score on train: 0.719086\n",
      "Best alpha: 0.515000; Corresponding rmse score on train: 0.718858\n",
      "Best alpha: 0.511000; Corresponding rmse score on train: 0.717343\n",
      "Mean rmse score: 0.7178921567110323\n"
     ]
    }
   ],
   "source": [
    "best_alphas = []\n",
    "alphas_to_try = np.linspace(0, 1, 1001)\n",
    "blending_rmse = []\n",
    "for fold in range(5):\n",
    "    preds_lgb = df_level2[df_level2[\"kfold\"] == fold][\"lgb\"].to_numpy()\n",
    "    preds_xgb = df_level2[df_level2[\"kfold\"] == fold][\"xgb\"].to_numpy()\n",
    "    yvalid = df_level2[df_level2[\"kfold\"] == fold][\"target\"].to_numpy()\n",
    "    rmse_train_simple_mix = 1\n",
    "    for alpha in alphas_to_try:\n",
    "        mix = alpha*preds_lgb + (1-alpha)*preds_xgb\n",
    "        rmse_mix = mean_squared_error(yvalid, mix, squared = False)\n",
    "        if rmse_mix < rmse_train_simple_mix:\n",
    "            best_alpha = alpha\n",
    "            rmse_train_simple_mix = rmse_mix\n",
    "    print('Best alpha: %f; Corresponding rmse score on train: %f' % (best_alpha, rmse_train_simple_mix))\n",
    "    best_alphas.append(best_alpha)\n",
    "    blending_rmse.append(rmse_train_simple_mix)\n",
    "print(\"Mean rmse score:\", np.mean(blending_rmse))"
   ]
  },
  {
   "cell_type": "markdown",
   "id": "77e278db-458a-4293-bf85-16d1a7836455",
   "metadata": {},
   "source": [
    "### Blending: Mejor alpha en general"
   ]
  },
  {
   "cell_type": "code",
   "execution_count": 46,
   "id": "8b0ae785-a30a-4c21-9928-2565103608d3",
   "metadata": {},
   "outputs": [
    {
     "name": "stdout",
     "output_type": "stream",
     "text": [
      "Best alpha: 0.468000; Corresponding rmse score on train: 0.717903\n"
     ]
    }
   ],
   "source": [
    "alphas_to_try = np.linspace(0, 1, 1001)\n",
    "\n",
    "preds_lgb = df_level2[\"lgb\"].to_numpy()\n",
    "preds_xgb = df_level2[\"xgb\"].to_numpy()\n",
    "yvalid = df_level2[\"target\"].to_numpy()\n",
    "rmse_train_simple_mix = 1\n",
    "for alpha in alphas_to_try:\n",
    "    mix = alpha*preds_lgb + (1-alpha)*preds_xgb\n",
    "    rmse_mix = mean_squared_error(yvalid, mix, squared = False)\n",
    "    if rmse_mix < rmse_train_simple_mix:\n",
    "        best_alpha = alpha\n",
    "        rmse_train_simple_mix = rmse_mix\n",
    "print('Best alpha: %f; Corresponding rmse score on train: %f' % (best_alpha, rmse_train_simple_mix))"
   ]
  },
  {
   "cell_type": "markdown",
   "id": "e6b945fc-fc1e-491f-89e1-ddf08b673235",
   "metadata": {},
   "source": [
    "### En general: Optimización\n",
    "\n",
    "Consideramos que nuestro dataset tiene $n$ datos y tenemos $m$ modelos.\n",
    "\n",
    "$$\\displaystyle\\min \\dfrac{1}{n} \\sum_{i=1}^{n} (\\hat y_i - y_i)^2 = \\dfrac{1}{n}\\sum_{i=1}^{n} \\left(\\sum_{j=1}^{m} (\\alpha_j\\hat y_i^j) - y_i \\right)^2 $$\n",
    "$$s.a \\quad \\sum_{j=1}^{m} \\alpha_j = 1 $$\n",
    "$$\\alpha_j \\ge 0 \\quad \\forall j \\in \\{1, \\dotso, m\\}$$"
   ]
  },
  {
   "cell_type": "code",
   "execution_count": 111,
   "id": "786d6e06-bd6f-4590-a6f0-f0fea728120d",
   "metadata": {},
   "outputs": [
    {
     "name": "stdout",
     "output_type": "stream",
     "text": [
      "[0.62589478 0.37410522]\n",
      "     fun: 0.717902540496462\n",
      "     jac: array([0.00036242, 0.00036241])\n",
      " message: 'Optimization terminated successfully'\n",
      "    nfev: 18\n",
      "     nit: 6\n",
      "    njev: 6\n",
      "  status: 0\n",
      " success: True\n",
      "       x: array([0.46759762, 0.53240238])\n"
     ]
    }
   ],
   "source": [
    "def combinacion_modelos(alphas, predictions):\n",
    "    m = len(alphas)\n",
    "    y_pred = np.sum(np.column_stack([alphas[i]*predictions[:, i] for i in range(m)]), axis = 1)\n",
    "    return y_pred\n",
    "\n",
    "def rmse_modelos(alphas, predictions, Y):\n",
    "    y_pred = combinacion_modelos(alphas, predictions)\n",
    "#     obj = np.sqrt(((y_pred - Y) ** 2).mean())\n",
    "    obj = mean_squared_error(Y, y_pred, squared = False)\n",
    "    return obj\n",
    "\n",
    "m = 2 # cantidad de modelos\n",
    "predictions = np.c_[preds_lgb, preds_xgb] # concatenacion de las predicciones\n",
    "Y = yvalid # target\n",
    "\n",
    "# initial value for alpha (guess)\n",
    "# alphas = 1/m*np.ones_like(predictions[0,:]) # Entregarle el mismo peso a cada modelo como punto inicial\n",
    "alphas = np.random.dirichlet(np.ones(2)) #asignar vector aleatorio con entradas que suman 1\n",
    "print(alphas)\n",
    "\n",
    "# alphas acotados por 0 y 1\n",
    "A= np.eye(m)\n",
    "lb= np.zeros(m)\n",
    "ub= np.ones(m)\n",
    "lin_cons1 =LinearConstraint(A,lb, ub)\n",
    "\n",
    "# alphas suman 1\n",
    "lin_cons2 =LinearConstraint(np.ones(m),1,1)\n",
    "\n",
    "res = minimize(rmse_modelos, [alpha_0, alpha_1], args=(predictions, Y), tol=1e-10, constraints=[lin_cons1, lin_cons2])\n",
    "print(res)"
   ]
  },
  {
   "cell_type": "code",
   "execution_count": 112,
   "id": "9e7d05ef-e733-40d7-ad18-aa1f184c29de",
   "metadata": {},
   "outputs": [
    {
     "name": "stdout",
     "output_type": "stream",
     "text": [
      "[0.46759762 0.53240238]\n",
      "1.0\n"
     ]
    }
   ],
   "source": [
    "print(res.x)\n",
    "print(sum(res.x))"
   ]
  },
  {
   "cell_type": "markdown",
   "id": "6ed9c49e-1e9b-4aa3-83ec-f48cc948580d",
   "metadata": {},
   "source": [
    "Nuestro grid fue bastante bueno, sin embargo, esto es mucho más eficiente incluso para 2 modelos y mejor."
   ]
  },
  {
   "cell_type": "code",
   "execution_count": 108,
   "id": "a24fb6e0-8e04-4ed8-8825-0553f6f6c5f1",
   "metadata": {},
   "outputs": [
    {
     "data": {
      "text/plain": [
       "-3.3418912082083807e-10"
      ]
     },
     "execution_count": 108,
     "metadata": {},
     "output_type": "execute_result"
    }
   ],
   "source": [
    "res.fun - rmse_train_simple_mix"
   ]
  },
  {
   "cell_type": "markdown",
   "id": "0027ed56-6c50-4b07-bd20-f3f9bdca2d06",
   "metadata": {},
   "source": [
    "## Stacking"
   ]
  },
  {
   "cell_type": "markdown",
   "id": "7ea685f2-d8e4-4080-8a50-7f210f9889dd",
   "metadata": {},
   "source": [
    "### Esquema Holdout"
   ]
  },
  {
   "cell_type": "code",
   "execution_count": 13,
   "id": "1a8fbde2-bc1c-4d4c-a468-092b08432c19",
   "metadata": {},
   "outputs": [],
   "source": [
    "train_meta = df_level2[df_level2[\"kfold\"].le(3)].drop(columns = \"kfold\")\n",
    "test_meta = df_level2[df_level2[\"kfold\"].ge(4)].drop(columns = \"kfold\")\n",
    "y_train = train_meta.pop(\"target\")\n",
    "y_test = test_meta.pop(\"target\")"
   ]
  },
  {
   "cell_type": "code",
   "execution_count": 14,
   "id": "bed99163-3f68-42c4-8992-587da2903db9",
   "metadata": {},
   "outputs": [
    {
     "name": "stdout",
     "output_type": "stream",
     "text": [
      "rmse: 0.7171440630022933\n"
     ]
    }
   ],
   "source": [
    "model_xgb = XGBRegressor(**xgb_params, random_state = 0)\n",
    "model_xgb.fit(train_meta, y_train, verbose=False,\n",
    "              eval_set=[(test_meta, y_test)],\n",
    "              eval_metric=\"rmse\",\n",
    "              early_stopping_rounds=1000\n",
    "              )\n",
    "preds_xgb= model_xgb.predict(test_meta, ntree_limit = model_xgb.get_booster().best_ntree_limit)\n",
    "rmse = mean_squared_error(y_test, preds_xgb, squared=False)\n",
    "print(\"rmse:\", rmse)"
   ]
  },
  {
   "cell_type": "markdown",
   "id": "a9df361e-63ae-426e-b57e-758f28e864af",
   "metadata": {},
   "source": [
    "Podemos usar también regresión lineal o el modelo que nosotros estimemos conveniente."
   ]
  },
  {
   "cell_type": "code",
   "execution_count": 28,
   "id": "6c8dd2de-23a1-4f79-bb0a-3dbd75b79f35",
   "metadata": {},
   "outputs": [
    {
     "name": "stdout",
     "output_type": "stream",
     "text": [
      "rmse: 0.7173701914246885\n"
     ]
    }
   ],
   "source": [
    "from sklearn.linear_model import LinearRegression\n",
    "reg = LinearRegression().fit(train_meta, y_train)\n",
    "preds_lin = reg.predict(test_meta)\n",
    "print(\"rmse:\", mean_squared_error(y_test, preds_lin, squared=False))"
   ]
  },
  {
   "cell_type": "markdown",
   "id": "be3947ea-564b-4c2f-ac62-513c9ac7364b",
   "metadata": {},
   "source": [
    "Entrenar en la totalidad"
   ]
  },
  {
   "cell_type": "code",
   "execution_count": 15,
   "id": "171ebd4b-5c77-4764-ad63-c44040eb24b2",
   "metadata": {},
   "outputs": [
    {
     "data": {
      "text/plain": [
       "XGBRegressor(alpha=0.31497378201113674, base_score=0.5, booster='gbtree',\n",
       "             colsample_bylevel=1, colsample_bynode=1,\n",
       "             colsample_bytree=0.182752418577295, gamma=0, gpu_id=0,\n",
       "             importance_type='gain', interaction_constraints='',\n",
       "             lambda=0.08413322850225624, learning_rate=0.09344238585504369,\n",
       "             max_delta_step=0, max_depth=2, min_child_weight=148.2986978620488,\n",
       "             missing=nan, monotone_constraints='()', n_estimators=20000,\n",
       "             n_jobs=16, num_parallel_tree=1, predictor='gpu_predictor',\n",
       "             random_state=0, reg_alpha=0.314973772, reg_lambda=0.0841332301,\n",
       "             scale_pos_weight=1, subsample=0.5105633202654916,\n",
       "             tree_method='gpu_hist', validate_parameters=1, verbosity=None)"
      ]
     },
     "execution_count": 15,
     "metadata": {},
     "output_type": "execute_result"
    }
   ],
   "source": [
    "model_xgb = XGBRegressor(**xgb_params, random_state = 0)\n",
    "model_xgb.fit(df_level2.drop(columns = [\"target\", \"kfold\"]), df_level2[\"target\"], \n",
    "              verbose=False,\n",
    "              eval_metric=\"rmse\"\n",
    "              )"
   ]
  },
  {
   "cell_type": "markdown",
   "id": "d8645a01-ff41-4e39-8c9e-b59f85c7ecab",
   "metadata": {},
   "source": [
    "Predecir en test set (debemos tener un test set de nivel 2 con las meta features)"
   ]
  },
  {
   "cell_type": "code",
   "execution_count": 23,
   "id": "dcacaaca-f625-4b23-88a4-429d03f0160c",
   "metadata": {},
   "outputs": [],
   "source": [
    "lgb_preds =  np.mean(np.column_stack(final_predictions_lgb), axis = 1)\n",
    "xgb_preds = np.mean(np.column_stack(final_predictions_xgb), axis = 1)\n",
    "df_final = pd.DataFrame(np.c_[lgb_preds, xgb_preds], columns = [\"lgb\", \"xgb\"])\n",
    "df_final_preds = model_xgb.predict(df_final)"
   ]
  },
  {
   "cell_type": "code",
   "execution_count": 26,
   "id": "8cab75ba-a8af-48b4-95d7-8bd6199d4287",
   "metadata": {},
   "outputs": [],
   "source": [
    "sample_submission[\"target\"] = df_final_preds"
   ]
  },
  {
   "cell_type": "code",
   "execution_count": 25,
   "id": "c409f95e-cf0d-4123-bab4-051d8ddc14c0",
   "metadata": {},
   "outputs": [
    {
     "data": {
      "text/plain": [
       "array([8.131369, 8.403622, 8.409484, ..., 8.498569, 8.282507, 7.907166],\n",
       "      dtype=float32)"
      ]
     },
     "execution_count": 25,
     "metadata": {},
     "output_type": "execute_result"
    }
   ],
   "source": [
    "df_final_preds"
   ]
  },
  {
   "cell_type": "markdown",
   "id": "94b253d2-058a-4266-99ef-98bf52bc577a",
   "metadata": {},
   "source": [
    "LB score : 0.71931"
   ]
  },
  {
   "cell_type": "code",
   "execution_count": 27,
   "id": "635bfe30-95be-45a3-80bf-01fdcee39a72",
   "metadata": {},
   "outputs": [],
   "source": [
    "# sample_submission.to_csv(\"output/submission_basic_stacking.csv\", index=False)"
   ]
  }
 ],
 "metadata": {
  "kernelspec": {
   "display_name": "Python 3.8 DataScience",
   "language": "python",
   "name": "datascience"
  },
  "language_info": {
   "codemirror_mode": {
    "name": "ipython",
    "version": 3
   },
   "file_extension": ".py",
   "mimetype": "text/x-python",
   "name": "python",
   "nbconvert_exporter": "python",
   "pygments_lexer": "ipython3",
   "version": "3.8.10"
  },
  "widgets": {
   "application/vnd.jupyter.widget-state+json": {
    "state": {},
    "version_major": 2,
    "version_minor": 0
   }
  }
 },
 "nbformat": 4,
 "nbformat_minor": 5
}
